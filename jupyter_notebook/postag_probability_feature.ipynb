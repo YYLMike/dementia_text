{
 "cells": [
  {
   "cell_type": "code",
   "execution_count": 1,
   "metadata": {
    "collapsed": true
   },
   "outputs": [],
   "source": [
    "import nltk\n",
    "import numpy as np\n",
    "import collections\n",
    "DEMENTIA_PATH = \"../data/dementia.txt\"\n",
    "CONTROL_PATH = \"../data/control_51.txt\"\n",
    "OPERA_PATH = \"../data/train/cut_4_train.txt\""
   ]
  },
  {
   "cell_type": "code",
   "execution_count": 2,
   "metadata": {
    "collapsed": true
   },
   "outputs": [],
   "source": [
    "with open(OPERA_PATH, encoding='utf8') as f:\n",
    "    sentence = []\n",
    "    for line in f:\n",
    "        sentence.append('<s>')\n",
    "        for token in line.split():\n",
    "            sentence.append(token)\n",
    "        sentence.append('</s>')"
   ]
  },
  {
   "cell_type": "code",
   "execution_count": 3,
   "metadata": {},
   "outputs": [
    {
     "name": "stdout",
     "output_type": "stream",
     "text": [
      "Total token size of opera: 3823598\n"
     ]
    }
   ],
   "source": [
    "print(\"Total token size of opera: {}\".format(len(sentence)))"
   ]
  },
  {
   "cell_type": "code",
   "execution_count": 4,
   "metadata": {
    "collapsed": true
   },
   "outputs": [],
   "source": [
    "def perplexity(num_list):\n",
    "    ret = 0.0\n",
    "    for num in num_list:\n",
    "        ret += np.log2(num)\n",
    "    ret /= len(num_list)\n",
    "#     ret = ret ** (-1/len(num_list))\n",
    "    return ret"
   ]
  },
  {
   "cell_type": "code",
   "execution_count": 5,
   "metadata": {
    "collapsed": true
   },
   "outputs": [],
   "source": [
    "unigram = collections.Counter(sentence)\n",
    "bigram = list(nltk.bigrams(sentence))\n",
    "bigram_count = collections.Counter(bigram)"
   ]
  },
  {
   "cell_type": "code",
   "execution_count": 6,
   "metadata": {
    "collapsed": true
   },
   "outputs": [],
   "source": [
    "bigram_prob = []\n",
    "for i in bigram:\n",
    "    bigram_prob.append(bigram_count[i]/unigram[i[0]])"
   ]
  },
  {
   "cell_type": "code",
   "execution_count": 7,
   "metadata": {},
   "outputs": [
    {
     "name": "stdout",
     "output_type": "stream",
     "text": [
      "Size of control & dementia corpus: 102\n"
     ]
    }
   ],
   "source": [
    "# read dementia and control dialogue data\n",
    "dialogue_dict = {}\n",
    "with open(DEMENTIA_PATH, encoding='utf8') as f:\n",
    "    dialogue_corpus = f.readlines()\n",
    "f.close()\n",
    "for i in range(len(dialogue_corpus)):\n",
    "    if i % 2 == 0:\n",
    "        dialogue_dict[dialogue_corpus[i].strip('\\n')] = dialogue_corpus[i+1].strip('\\n')\n",
    "with open(CONTROL_PATH, encoding='utf8') as f:\n",
    "    dialogue_corpus = f.readlines()\n",
    "f.close()\n",
    "for i in range(len(dialogue_corpus)):\n",
    "    if i % 2 == 0:\n",
    "        dialogue_dict[dialogue_corpus[i].strip('\\n')] = dialogue_corpus[i+1].strip('\\n')\n",
    "print(\"Size of control & dementia corpus: {}\".format(len(dialogue_dict)))"
   ]
  },
  {
   "cell_type": "code",
   "execution_count": 8,
   "metadata": {},
   "outputs": [
    {
     "name": "stderr",
     "output_type": "stream",
     "text": [
      "Building prefix dict from /home/yyliu/PycharmProjects/NLP/data/dict.txt.big ...\n",
      "Loading model from cache /tmp/jieba.ue770738bdb792356a45fd97be467a134.cache\n",
      "Loading model cost 1.155 seconds.\n",
      "Prefix dict has been built succesfully.\n"
     ]
    }
   ],
   "source": [
    "import jieba\n",
    "jieba.set_dictionary('../data/dict.txt.big')\n",
    "dialogue_seg = []\n",
    "for key, sent in dialogue_dict.items():\n",
    "    sent_seg = jieba.lcut(sent)\n",
    "    sent_seg.insert(0,'<s>')\n",
    "    sent_seg.append('</s>')\n",
    "    dialogue_seg.append(sent_seg)\n"
   ]
  },
  {
   "cell_type": "code",
   "execution_count": 9,
   "metadata": {},
   "outputs": [
    {
     "name": "stdout",
     "output_type": "stream",
     "text": [
      "[163, 22, 25, 68, 67, 22, 40, 147, 122, 36, 55, 27, 63, 43, 39, 40, 39, 92, 42, 30, 43, 61, 15, 73, 25, 70, 70, 63, 79, 54, 49, 56, 42, 70, 50, 63, 24, 42, 17, 80, 49, 66, 53, 23, 79, 75, 74, 41, 55, 43, 59, 39, 33, 105, 28, 56, 54, 35, 36, 39, 71, 35, 59, 141, 96, 77, 67, 23, 117, 66, 56, 34, 71, 36, 35, 89, 152, 44, 65, 218, 71, 68, 47, 58, 46, 60, 90, 37, 62, 40, 108, 72, 35, 23, 62, 108, 52, 80, 66, 42, 24, 60]\n"
     ]
    }
   ],
   "source": [
    "dialogue_token = []\n",
    "for i in dialogue_seg:\n",
    "    dialogue_token.append(len(i))\n",
    "print(dialogue_token)"
   ]
  },
  {
   "cell_type": "code",
   "execution_count": 10,
   "metadata": {
    "collapsed": true
   },
   "outputs": [],
   "source": [
    "# dialogue_token = []\n",
    "# for key, sent in dialogue_dict.items():\n",
    "#     dialogue_token.append(len(sent))\n",
    "# print(dialogue_token)"
   ]
  },
  {
   "cell_type": "code",
   "execution_count": 11,
   "metadata": {
    "collapsed": true
   },
   "outputs": [],
   "source": [
    "# len(dialogue_seg)\n",
    "perplexity_dialogue = []\n",
    "for i in dialogue_seg:\n",
    "    bigram_dialogue = list(nltk.bigrams(i))\n",
    "    \n",
    "    test_prob = []\n",
    "    for j in bigram_dialogue:\n",
    "        test_prob.append((bigram_count[j]+1) / (unigram[j[0]]+len(unigram)))\n",
    "#     print(test_prob)\n",
    "    perplexity_dialogue.append(perplexity(test_prob))\n",
    "    test_prob.clear()\n",
    "    bigram_dialogue.clear()"
   ]
  },
  {
   "cell_type": "code",
   "execution_count": 12,
   "metadata": {},
   "outputs": [
    {
     "data": {
      "image/png": "[encoded data removed]",
      "text/plain": [
       "<matplotlib.figure.Figure at 0x7f4976a11cf8>"
      ]
     },
     "metadata": {},
     "output_type": "display_data"
    }
   ],
   "source": [
    "dialogue_token_dementia = np.asarray(dialogue_token[:52])\n",
    "dialogue_token_control = np.asarray(dialogue_token[52:])\n",
    "\n",
    "import matplotlib.pyplot as plt\n",
    "import seaborn\n",
    "seaborn.distplot(dialogue_token_dementia, color='r', label='dementia')\n",
    "seaborn.distplot(dialogue_token_control, color='g', label='control')\n",
    "plt.title('Distribution of token numbers')\n",
    "plt.legend()\n",
    "plt.show()"
   ]
  },
  {
   "cell_type": "code",
   "execution_count": 13,
   "metadata": {},
   "outputs": [
    {
     "data": {
      "image/png": "[encoded data removed]",
      "text/plain": [
       "<matplotlib.figure.Figure at 0x7f4976a117f0>"
      ]
     },
     "metadata": {},
     "output_type": "display_data"
    }
   ],
   "source": [
    "perplexity_dialogue_dementia = np.asarray(perplexity_dialogue[:52])\n",
    "perplexity_dialogue_control = np.asarray(perplexity_dialogue[52:])\n",
    "seaborn.distplot(perplexity_dialogue_dementia, color='r')\n",
    "seaborn.distplot(perplexity_dialogue_control, color='g')\n",
    "plt.show()\n"
   ]
  },
  {
   "cell_type": "code",
   "execution_count": 14,
   "metadata": {
    "collapsed": true
   },
   "outputs": [],
   "source": [
    "# bigram_test = list(nltk.bigrams(test_sentence_seg))\n",
    "# test_prob = []\n",
    "# for i in bigram_test:\n",
    "#     test_prob.append((bigram_count[i]+1) / (unigram[i[0]]+len(unigram)))\n",
    "# print(perplexity(test_prob))"
   ]
  },
  {
   "cell_type": "code",
   "execution_count": 15,
   "metadata": {
    "collapsed": true
   },
   "outputs": [],
   "source": [
    "import postag_ver004"
   ]
  },
  {
   "cell_type": "code",
   "execution_count": 17,
   "metadata": {},
   "outputs": [
    {
     "name": "stdout",
     "output_type": "stream",
     "text": [
      "Read file success...\n",
      "Syntactic features extract success...\n"
     ]
    }
   ],
   "source": [
    "my_cluster = postag_ver004.Cluster()"
   ]
  },
  {
   "cell_type": "code",
   "execution_count": 57,
   "metadata": {},
   "outputs": [],
   "source": [
    "n_list = [r[0] for r in my_cluster.syntactic_feature]\n",
    "v_list = [r[1] for r in my_cluster.syntactic_feature]\n",
    "a_list = [r[2] for r in my_cluster.syntactic_feature]\n",
    "pronoun_list = [r[3] for r in my_cluster.syntactic_feature]\n",
    "ttr_list = [r[4] for r in my_cluster.syntactic_feature]"
   ]
  },
  {
   "cell_type": "code",
   "execution_count": null,
   "metadata": {
    "collapsed": true
   },
   "outputs": [],
   "source": []
  }
 ],
 "metadata": {
  "kernelspec": {
   "display_name": "Python 3",
   "language": "python",
   "name": "python3"
  },
  "language_info": {
   "codemirror_mode": {
    "name": "ipython",
    "version": 3
   },
   "file_extension": ".py",
   "mimetype": "text/x-python",
   "name": "python",
   "nbconvert_exporter": "python",
   "pygments_lexer": "ipython3",
   "version": "3.6.3"
  }
 },
 "nbformat": 4,
 "nbformat_minor": 2
}
