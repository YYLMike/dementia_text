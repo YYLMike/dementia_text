{
 "cells": [
  {
   "cell_type": "code",
   "execution_count": null,
   "metadata": {},
   "outputs": [],
   "source": [
    "import numpy as np\n",
    "import tensorflow as tf\n",
    "import time\n",
    "from datetime import timedelta\n",
    "import matplotlib.pyplot as plt\n",
    "from tensorflow.python.keras.models import Sequential\n",
    "from tensorflow.python.keras.layers import InputLayer, Input\n",
    "from tensorflow.python.keras.layers import Reshape, MaxPooling2D\n",
    "from tensorflow.python.keras.layers import Conv2D, Dense, Flatten, Dropout"
   ]
  },
  {
   "cell_type": "code",
   "execution_count": 124,
   "metadata": {},
   "outputs": [
    {
     "name": "stdout",
     "output_type": "stream",
     "text": [
      "Extracting data/MNIST/train-images-idx3-ubyte.gz\n",
      "Extracting data/MNIST/train-labels-idx1-ubyte.gz\n",
      "Extracting data/MNIST/t10k-images-idx3-ubyte.gz\n",
      "Extracting data/MNIST/t10k-labels-idx1-ubyte.gz\n"
     ]
    }
   ],
   "source": [
    "from tensorflow.examples.tutorials.mnist import input_data\n",
    "data = input_data.read_data_sets('data/MNIST/', one_hot=True)\n",
    "data.test.cls = np.argmax(data.test.labels, axis=1)"
   ]
  },
  {
   "cell_type": "code",
   "execution_count": 154,
   "metadata": {
    "collapsed": true
   },
   "outputs": [],
   "source": [
    "img_size = 28\n",
    "img_size_flat = img_size**2\n",
    "img_shape = (img_size, img_size)\n",
    "img_shape_full = (img_size, img_size, 1)# keras\n",
    "num_channels = 1 # binary images\n",
    "num_classes = 10 # 0~9\n",
    "lr = 1e-2 # 1e-2 is the largest lr for Adam, 1e-1 will diverge\n",
    "batch_size = 512 # 512 is the limit of our GPU, larger size can't reach shorter time\n",
    "\n",
    "# convolution netwoek\n",
    "filter_size1 = 5\n",
    "filter_num1 = 16\n",
    "filter_size2 = 5\n",
    "filter_num2 = 36\n",
    "fc_neuron = 256"
   ]
  },
  {
   "cell_type": "code",
   "execution_count": 155,
   "metadata": {
    "collapsed": true
   },
   "outputs": [],
   "source": [
    "# Sequential Mode\n",
    "model = Sequential()\n",
    "model.add(InputLayer(input_shape=(img_size_flat,)))\n",
    "model.add(Reshape(img_shape_full))\n",
    "# First convolutional layer with ReLU-activation and max-pooling.\n",
    "# activation using relu is better than sigmoid that sigmoid can't restrict the loss\n",
    "model.add(Conv2D(kernel_size=5, strides=1, filters=16, padding='same',\n",
    "                 activation='relu', name='layer_conv1'))\n",
    "model.add(MaxPooling2D(pool_size=2, strides=2))\n",
    "\n",
    "# Second convolutional layer with ReLU-activation and max-pooling.\n",
    "model.add(Conv2D(kernel_size=5, strides=1, filters=36, padding='same',\n",
    "                 activation='relu', name='layer_conv2'))\n",
    "model.add(MaxPooling2D(pool_size=2, strides=2))\n",
    "\n",
    "# Flatten the 4-rank output of the convolutional layers\n",
    "# to 2-rank that can be input to a fully-connected / dense layer.\n",
    "model.add(Flatten())\n",
    "\n",
    "# First fully-connected / dense layer with ReLU-activation.\n",
    "# sigmoid is ok for this fc layer but it cost longer to converge than relu\n",
    "model.add(Dense(128, activation='relu'))\n",
    "model.add(Dropout(0.6))\n",
    "# Last fully-connected / dense layer with softmax-activation\n",
    "# for use in classification.\n",
    "model.add(Dense(num_classes, activation='softmax'))"
   ]
  },
  {
   "cell_type": "code",
   "execution_count": 156,
   "metadata": {
    "collapsed": true
   },
   "outputs": [],
   "source": [
    "from tensorflow.python.keras.optimizers import Adam\n",
    "optimizer = Adam(lr=lr)"
   ]
  },
  {
   "cell_type": "code",
   "execution_count": 157,
   "metadata": {},
   "outputs": [
    {
     "name": "stdout",
     "output_type": "stream",
     "text": [
      "Epoch 1/10\n",
      "55000/55000 [==============================]55000/55000 [==============================] - 7s 126us/step - loss: 0.2935 - acc: 0.9077\n",
      "\n",
      "Epoch 2/10\n",
      "55000/55000 [==============================]55000/55000 [==============================] - 6s 109us/step - loss: 0.0923 - acc: 0.9736\n",
      "\n",
      "Epoch 3/10\n",
      "55000/55000 [==============================]55000/55000 [==============================] - 6s 107us/step - loss: 0.0693 - acc: 0.9789\n",
      "\n",
      "Epoch 4/10\n",
      "55000/55000 [==============================]55000/55000 [==============================] - 6s 102us/step - loss: 0.0635 - acc: 0.9813\n",
      "\n",
      "Epoch 5/10\n",
      "55000/55000 [==============================]55000/55000 [==============================] - 6s 102us/step - loss: 0.0532 - acc: 0.9849\n",
      "\n",
      "Epoch 6/10\n",
      "55000/55000 [==============================]55000/55000 [==============================] - 6s 107us/step - loss: 0.0489 - acc: 0.9858\n",
      "\n",
      "Epoch 7/10\n",
      "55000/55000 [==============================]55000/55000 [==============================] - 6s 109us/step - loss: 0.0441 - acc: 0.9865\n",
      "\n",
      "Epoch 8/10\n",
      "55000/55000 [==============================]55000/55000 [==============================] - 6s 102us/step - loss: 0.0454 - acc: 0.9860\n",
      "\n",
      "Epoch 9/10\n",
      "55000/55000 [==============================]55000/55000 [==============================] - 6s 102us/step - loss: 0.0416 - acc: 0.9878\n",
      "\n",
      "Epoch 10/10\n",
      "55000/55000 [==============================]55000/55000 [==============================] - 6s 103us/step - loss: 0.0401 - acc: 0.9877\n",
      "\n"
     ]
    },
    {
     "data": {
      "text/plain": [
       "<tensorflow.python.keras._impl.keras.callbacks.History at 0x7f59b2c8b240>"
      ]
     },
     "execution_count": 157,
     "metadata": {},
     "output_type": "execute_result"
    }
   ],
   "source": [
    "model.compile(optimizer=optimizer, loss='categorical_crossentropy', metrics=['accuracy'])\n",
    "model.fit(x=data.train.images, y=data.train.labels, epochs=10, batch_size=batch_size)"
   ]
  },
  {
   "cell_type": "code",
   "execution_count": 158,
   "metadata": {},
   "outputs": [
    {
     "name": "stdout",
     "output_type": "stream",
     "text": [
      "10000/10000 [==============================]10000/10000 [==============================] - 1s 132us/step\n",
      "\n",
      "loss 0.037632762910805924\n",
      "acc 0.9903\n"
     ]
    }
   ],
   "source": [
    "result = model.evaluate(x=data.test.images, y=data.test.labels)\n",
    "for name, val in zip(model.metrics_names, result):\n",
    "    print(name, val)"
   ]
  },
  {
   "cell_type": "code",
   "execution_count": 149,
   "metadata": {},
   "outputs": [
    {
     "name": "stdout",
     "output_type": "stream",
     "text": [
      "_________________________________________________________________\n",
      "Layer (type)                 Output Shape              Param #   \n",
      "=================================================================\n",
      "input_24 (InputLayer)        (None, 784)               0         \n",
      "_________________________________________________________________\n",
      "reshape_24 (Reshape)         (None, 28, 28, 1)         0         \n",
      "_________________________________________________________________\n",
      "layer_conv1 (Conv2D)         (None, 28, 28, 16)        416       \n",
      "_________________________________________________________________\n",
      "max_pooling2d_47 (MaxPooling (None, 14, 14, 16)        0         \n",
      "_________________________________________________________________\n",
      "layer_conv2 (Conv2D)         (None, 14, 14, 36)        14436     \n",
      "_________________________________________________________________\n",
      "max_pooling2d_48 (MaxPooling (None, 7, 7, 36)          0         \n",
      "_________________________________________________________________\n",
      "flatten_24 (Flatten)         (None, 1764)              0         \n",
      "_________________________________________________________________\n",
      "dense_47 (Dense)             (None, 128)               225920    \n",
      "_________________________________________________________________\n",
      "dropout_17 (Dropout)         (None, 128)               0         \n",
      "_________________________________________________________________\n",
      "dense_48 (Dense)             (None, 10)                1290      \n",
      "=================================================================\n",
      "Total params: 242,062\n",
      "Trainable params: 242,062\n",
      "Non-trainable params: 0\n",
      "_________________________________________________________________\n"
     ]
    }
   ],
   "source": [
    "model.summary()"
   ]
  },
  {
   "cell_type": "code",
   "execution_count": 134,
   "metadata": {
    "collapsed": true
   },
   "outputs": [],
   "source": [
    "y_pred = model.predict(data.test.images)"
   ]
  },
  {
   "cell_type": "code",
   "execution_count": 135,
   "metadata": {
    "collapsed": true
   },
   "outputs": [],
   "source": [
    "cls_pred = np.argmax(y_pred, axis=1)"
   ]
  },
  {
   "cell_type": "code",
   "execution_count": 136,
   "metadata": {
    "collapsed": true
   },
   "outputs": [],
   "source": [
    "def plot_images(images, cls_true, cls_pred=None):\n",
    "    fig, axes = plt.subplots(3,3)\n",
    "    for i, ax in enumerate(axes.flat):\n",
    "        ax.imshow(images[i].reshape(img_shape), cmap='binary')\n",
    "        if cls_pred is None:\n",
    "            xlabel = \"True: {}\".format(cls_true[i])\n",
    "        else:\n",
    "            xlabel = \"True: {}, Pred: {}\".format(cls_true[i], cls_pred[i])\n",
    "        ax.set_xlabel(xlabel)\n",
    "        ax.set_xticks([])\n",
    "        ax.set_yticks([])\n",
    "    plt.show()"
   ]
  },
  {
   "cell_type": "code",
   "execution_count": 137,
   "metadata": {
    "collapsed": true
   },
   "outputs": [],
   "source": [
    "def plot_example_errors(cls_pred):\n",
    "    incorrect = (cls_pred != data.test.cls)\n",
    "    images = data.test.images[incorrect]\n",
    "    cls_pred = cls_pred[incorrect]\n",
    "    cls_true = data.test.cls[incorrect]\n",
    "    plot_images(images=images[0:9], cls_true=cls_true[0:9], cls_pred=cls_pred[0:9])"
   ]
  },
  {
   "cell_type": "code",
   "execution_count": 138,
   "metadata": {},
   "outputs": [
    {
     "data": {
      "image/png": "[encoded data removed]",
      "text/plain": [
       "<matplotlib.figure.Figure at 0x7f59b3bade80>"
      ]
     },
     "metadata": {},
     "output_type": "display_data"
    }
   ],
   "source": [
    "plot_example_errors(cls_pred)"
   ]
  },
  {
   "cell_type": "code",
   "execution_count": 160,
   "metadata": {},
   "outputs": [
    {
     "name": "stdout",
     "output_type": "stream",
     "text": [
      "Help on package tensorflow:\n",
      "\n",
      "NAME\n",
      "    tensorflow\n",
      "\n",
      "DESCRIPTION\n",
      "    # Copyright 2015 The TensorFlow Authors. All Rights Reserved.\n",
      "    #\n",
      "    # Licensed under the Apache License, Version 2.0 (the \"License\");\n",
      "    # you may not use this file except in compliance with the License.\n",
      "    # You may obtain a copy of the License at\n",
      "    #\n",
      "    #     http://www.apache.org/licenses/LICENSE-2.0\n",
      "    #\n",
      "    # Unless required by applicable law or agreed to in writing, software\n",
      "    # distributed under the License is distributed on an \"AS IS\" BASIS,\n",
      "    # WITHOUT WARRANTIES OR CONDITIONS OF ANY KIND, either express or implied.\n",
      "    # See the License for the specific language governing permissions and\n",
      "    # limitations under the License.\n",
      "    # ==============================================================================\n",
      "\n",
      "PACKAGE CONTENTS\n",
      "    contrib (package)\n",
      "    core (package)\n",
      "    examples (package)\n",
      "    libtensorflow_framework\n",
      "    python (package)\n",
      "    tools (package)\n",
      "\n",
      "SUBMODULES\n",
      "    app\n",
      "    bitwise\n",
      "    compat\n",
      "    data\n",
      "    distributions\n",
      "    errors\n",
      "    estimator\n",
      "    feature_column\n",
      "    flags\n",
      "    gfile\n",
      "    graph_util\n",
      "    image\n",
      "    initializers\n",
      "    keras\n",
      "    layers\n",
      "    linalg\n",
      "    logging\n",
      "    losses\n",
      "    manip\n",
      "    metrics\n",
      "    nn\n",
      "    profiler\n",
      "    python_io\n",
      "    pywrap_tensorflow\n",
      "    resource_loader\n",
      "    saved_model\n",
      "    sets\n",
      "    spectral\n",
      "    summary\n",
      "    sysconfig\n",
      "    test\n",
      "    train\n",
      "    user_ops\n",
      "\n",
      "DATA\n",
      "    AUTO_REUSE = <_ReuseMode.AUTO_REUSE: 1>\n",
      "    COMPILER_VERSION = '4.8.4'\n",
      "    CXX11_ABI_FLAG = 0\n",
      "    GIT_VERSION = 'v1.6.0-0-gd2e24b6039'\n",
      "    GRAPH_DEF_VERSION = 26\n",
      "    GRAPH_DEF_VERSION_MIN_CONSUMER = 0\n",
      "    GRAPH_DEF_VERSION_MIN_PRODUCER = 0\n",
      "    MONOLITHIC_BUILD = 0\n",
      "    QUANTIZED_DTYPES = frozenset({tf.qint8, tf.quint8, tf.qint32, tf.qint1...\n",
      "    VERSION = '1.6.0'\n",
      "    __compiler_version__ = '4.8.4'\n",
      "    __cxx11_abi_flag__ = 0\n",
      "    __git_version__ = 'v1.6.0-0-gd2e24b6039'\n",
      "    __monolithic_build__ = 0\n",
      "    bfloat16 = tf.bfloat16\n",
      "    bool = tf.bool\n",
      "    complex128 = tf.complex128\n",
      "    complex64 = tf.complex64\n",
      "    double = tf.float64\n",
      "    float16 = tf.float16\n",
      "    float32 = tf.float32\n",
      "    float64 = tf.float64\n",
      "    half = tf.float16\n",
      "    int16 = tf.int16\n",
      "    int32 = tf.int32\n",
      "    int64 = tf.int64\n",
      "    int8 = tf.int8\n",
      "    newaxis = None\n",
      "    qint16 = tf.qint16\n",
      "    qint32 = tf.qint32\n",
      "    qint8 = tf.qint8\n",
      "    quint16 = tf.quint16\n",
      "    quint8 = tf.quint8\n",
      "    resource = tf.resource\n",
      "    string = tf.string\n",
      "    uint16 = tf.uint16\n",
      "    uint32 = tf.uint32\n",
      "    uint64 = tf.uint64\n",
      "    uint8 = tf.uint8\n",
      "    variant = tf.variant\n",
      "\n",
      "VERSION\n",
      "    1.6.0\n",
      "\n",
      "FILE\n",
      "    /home/yyliu/anaconda3/lib/python3.6/site-packages/tensorflow/__init__.py\n",
      "\n",
      "\n"
     ]
    }
   ],
   "source": [
    "help(tf)"
   ]
  },
  {
   "cell_type": "code",
   "execution_count": null,
   "metadata": {
    "collapsed": true
   },
   "outputs": [],
   "source": []
  }
 ],
 "metadata": {
  "kernelspec": {
   "display_name": "Python 3",
   "language": "python",
   "name": "python3"
  },
  "language_info": {
   "codemirror_mode": {
    "name": "ipython",
    "version": 3
   },
   "file_extension": ".py",
   "mimetype": "text/x-python",
   "name": "python",
   "nbconvert_exporter": "python",
   "pygments_lexer": "ipython3",
   "version": "3.6.4"
  }
 },
 "nbformat": 4,
 "nbformat_minor": 2
}
