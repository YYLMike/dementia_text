{
 "cells": [
  {
   "cell_type": "code",
   "execution_count": 1,
   "metadata": {},
   "outputs": [
    {
     "name": "stderr",
     "output_type": "stream",
     "text": [
      "/home/yyliu/anaconda3/envs/NLP/lib/python3.6/site-packages/h5py/__init__.py:36: FutureWarning: Conversion of the second argument of issubdtype from `float` to `np.floating` is deprecated. In future, it will be treated as `np.float64 == np.dtype(float).type`.\n",
      "  from ._conv import register_converters as _register_converters\n"
     ]
    }
   ],
   "source": [
    "import data_preprocess\n",
    "import tokenize_data_helper\n",
    "import nengo\n",
    "from nengo.exceptions import SpaParseError, ValidationError\n",
    "import sys\n",
    "import numpy as np\n",
    "from nengo.spa import pointer\n",
    "from tensorflow.python.keras.preprocessing.text import Tokenizer\n",
    "from tensorflow.python.keras.preprocessing.sequence import pad_sequences\n"
   ]
  },
  {
   "cell_type": "code",
   "execution_count": 5,
   "metadata": {},
   "outputs": [],
   "source": [
    "DIM = 100\n",
    "W2V_MODEL = '100features_20context_20mincount_zht'\n",
    "CONTROL_TRAIN = 'control.txt'\n",
    "DEMENTIA_TRAIN = 'dementia.txt'\n",
    "CONTROL_TEST = 'control_test.txt'\n",
    "DEMENTIA_TEST = 'dementia_test.txt'"
   ]
  },
  {
   "cell_type": "code",
   "execution_count": 6,
   "metadata": {},
   "outputs": [
    {
     "name": "stdout",
     "output_type": "stream",
     "text": [
      "Load word2vec model sucess ...\n",
      "Number of token: 259425\n",
      "Dimensions of word vector: 100\n"
     ]
    }
   ],
   "source": [
    "w2v_model, _, w2v_dict = data_preprocess.load_wordvec_model(W2V_MODEL)\n",
    "vocab = nengo.spa.Vocabulary(DIM, max_similarity=0.3) # optional max_similarity: 0.1"
   ]
  },
  {
   "cell_type": "code",
   "execution_count": null,
   "metadata": {},
   "outputs": [
    {
     "name": "stderr",
     "output_type": "stream",
     "text": [
      "Building prefix dict from /home/yyliu/code/NLP/data/dict.txt.big ...\n"
     ]
    },
    {
     "name": "stdout",
     "output_type": "stream",
     "text": [
      "total number of train set: 784\n",
      "sentence number of dementia subject: 394\n",
      "sentence number of control normal subject: 390\n"
     ]
    }
   ],
   "source": [
    "num_words = 1000\n",
    "x_train, y_train = data_preprocess.read_sentence(DEMENTIA_TRAIN, CONTROL_TRAIN)\n",
    "x_train_seg = data_preprocess.segmentation(x_train)\n",
    "x_test, y_test = data_preprocess.read_sentence(DEMENTIA_TEST, CONTROL_TEST)\n",
    "x_test_seg = data_preprocess.segmentation(x_test)\n",
    "data_helper = tokenize_data_helper.tokenize_data_helper(x_train_seg, num_words)\n",
    "x_train_tokens, x_test_tokens = data_helper.tokenize_data(x_train_seg, x_test_seg)\n",
    "x_train_pad, x_test_pad = data_helper.pad_tokenize(x_train_tokens, x_test_tokens)\n"
   ]
  },
  {
   "cell_type": "code",
   "execution_count": 5,
   "metadata": {},
   "outputs": [
    {
     "data": {
      "text/plain": [
       "[150, 115]"
      ]
     },
     "execution_count": 5,
     "metadata": {},
     "output_type": "execute_result"
    }
   ],
   "source": [
    "x_train_tokens[0]"
   ]
  },
  {
   "cell_type": "code",
   "execution_count": 6,
   "metadata": {},
   "outputs": [
    {
     "data": {
      "text/plain": [
       "'三個 人'"
      ]
     },
     "execution_count": 6,
     "metadata": {},
     "output_type": "execute_result"
    }
   ],
   "source": [
    "# test_text = []\n",
    "# for i in x_train_tokens[0]:\n",
    "#     test_text.append(data_helper.tokens_to_string(i))\n",
    "# print(test_text)\n",
    "data_helper.tokens_to_string(x_train_tokens[0])"
   ]
  },
  {
   "cell_type": "code",
   "execution_count": 7,
   "metadata": {},
   "outputs": [],
   "source": [
    "oov = []\n",
    "# for sentences in x_train_seg:\n",
    "#     for token in sentences.split():\n",
    "#         try:\n",
    "#             vocab.add(str('V'+token), w2v_dict[token])\n",
    "#         except KeyError:\n",
    "#             oov.append(token)\n",
    "#             value = vocab.create_pointer(attempts=100)\n",
    "#             vocab.add(str('V'+token), value)\n",
    "#             continue\n",
    "#         except ValidationError:\n",
    "#             pass\n",
    "# data_helper.tokenizer.word_index\n",
    "for token, i in data_helper.tokenizer.word_index.items():\n",
    "    try:\n",
    "        vocab.add(str('V'+token), w2v_dict[token])\n",
    "    except KeyError:\n",
    "        oov.append(token)\n",
    "        value = vocab.create_pointer(attempts=100)\n",
    "        vocab.add(str('V'+token), value)\n",
    "        continue\n",
    "vocab.add('Start', np.zeros(DIM))"
   ]
  },
  {
   "cell_type": "code",
   "execution_count": 8,
   "metadata": {},
   "outputs": [
    {
     "name": "stdout",
     "output_type": "stream",
     "text": [
      "100\n"
     ]
    }
   ],
   "source": [
    "print(len(oov))"
   ]
  },
  {
   "cell_type": "code",
   "execution_count": 12,
   "metadata": {},
   "outputs": [
    {
     "name": "stdout",
     "output_type": "stream",
     "text": [
      "901\n",
      "900\n"
     ]
    }
   ],
   "source": [
    "assert len(vocab.keys)-1 == len(data_helper.tokenizer.word_index.keys())\n",
    "print(len(vocab.keys))\n",
    "print(len(data_helper.tokenizer.word_index.keys()))"
   ]
  },
  {
   "cell_type": "code",
   "execution_count": 13,
   "metadata": {},
   "outputs": [
    {
     "name": "stdout",
     "output_type": "stream",
     "text": [
      "['V椅去', 'V分給', 'V一片', 'V心事重重']\n"
     ]
    }
   ],
   "source": [
    "# print(vocab.keys[0], vocab[vocab.keys[0]])\n",
    "print(vocab.keys[-5:-1])"
   ]
  },
  {
   "cell_type": "code",
   "execution_count": 14,
   "metadata": {},
   "outputs": [],
   "source": [
    "model_path = 'edu/stanford/nlp/models/lexparser/chinesePCFG.ser.gz'"
   ]
  },
  {
   "cell_type": "code",
   "execution_count": 15,
   "metadata": {},
   "outputs": [
    {
     "name": "stdout",
     "output_type": "stream",
     "text": [
      "(('洗', 'VV'), 'nsubj', ('媽媽', 'NR'))\n",
      "(('洗', 'VV'), 'advmod', ('在', 'AD'))\n",
      "(('洗', 'VV'), 'dobj', ('盤子', 'NN'))\n",
      "(ROOT (IP (NP (NR 媽媽)) (VP (ADVP (AD 在)) (VP (VV 洗) (NP (NN 盤子))))))\n"
     ]
    }
   ],
   "source": [
    "s = u\"媽媽 在 洗 盤子\"\n",
    "\n",
    "# 依存分析\n",
    "from nltk.parse.stanford import StanfordDependencyParser\n",
    "parser = StanfordDependencyParser(model_path=model_path)\n",
    "result = list(parser.parse(s.split()))\n",
    "for row in result[0].triples():\n",
    "    print(row)\n",
    "\n",
    "# 句法结构分析\n",
    "from nltk.parse.stanford import StanfordParser\n",
    "parser = StanfordParser(model_path=model_path)\n",
    "result_2 = list(parser.parse(s.split()))\n",
    "for r in result_2:\n",
    "    print(r)\n",
    "#     print(r.draw())\n"
   ]
  },
  {
   "cell_type": "code",
   "execution_count": 16,
   "metadata": {},
   "outputs": [
    {
     "name": "stdout",
     "output_type": "stream",
     "text": [
      "(ROOT (IP (NP (NR 媽媽)) (VP (ADVP (AD 在)) (VP (VV 洗) (NP (NN 盤子)))))) 0\n",
      "(IP (NP (NR 媽媽)) (VP (ADVP (AD 在)) (VP (VV 洗) (NP (NN 盤子))))) 1\n",
      "(NP (NR 媽媽)) 2\n",
      "(NR 媽媽) 3\n",
      "(VP (ADVP (AD 在)) (VP (VV 洗) (NP (NN 盤子)))) 4\n",
      "(ADVP (AD 在)) 5\n",
      "(AD 在) 6\n",
      "(VP (VV 洗) (NP (NN 盤子))) 7\n",
      "(VV 洗) 8\n",
      "(NP (NN 盤子)) 9\n",
      "(NN 盤子) 10\n"
     ]
    }
   ],
   "source": [
    "for i, r in enumerate(result_2[0].subtrees()):\n",
    "    print(r, i)\n",
    "# result_2[0].subtrees()"
   ]
  },
  {
   "cell_type": "code",
   "execution_count": 17,
   "metadata": {},
   "outputs": [
    {
     "name": "stdout",
     "output_type": "stream",
     "text": [
      "[('媽媽', 'NR'), ('在', 'AD'), ('洗', 'VV'), ('盤子', 'NN')]\n"
     ]
    }
   ],
   "source": [
    "tree = result_2[0]\n",
    "print(tree.pos())"
   ]
  },
  {
   "cell_type": "code",
   "execution_count": 18,
   "metadata": {},
   "outputs": [
    {
     "name": "stdout",
     "output_type": "stream",
     "text": [
      "[NR -> '媽媽']\n",
      "[AD -> '在']\n",
      "[VV -> '洗']\n",
      "[NN -> '盤子']\n"
     ]
    }
   ],
   "source": [
    "for s in tree.subtrees(lambda tree: tree.height() == 2):\n",
    "    print(s.productions())"
   ]
  },
  {
   "cell_type": "code",
   "execution_count": 20,
   "metadata": {},
   "outputs": [],
   "source": [
    "# parser = StanfordParser(model_path=model_path)\n",
    "# def parser_tree(sentence):\n",
    "#     result = list(parser.parse(sentence.split()))\n",
    "#     return result"
   ]
  },
  {
   "cell_type": "code",
   "execution_count": 21,
   "metadata": {},
   "outputs": [],
   "source": [
    "# x_train_tree = []\n",
    "# for s in x_train_seg:\n",
    "#     tree_tmp = list(parser.parse(s.split()))\n",
    "#     x_train_tree.append(tree_tmp)"
   ]
  },
  {
   "cell_type": "code",
   "execution_count": 22,
   "metadata": {},
   "outputs": [],
   "source": [
    "import jieba.posseg as pseg"
   ]
  },
  {
   "cell_type": "code",
   "execution_count": 23,
   "metadata": {},
   "outputs": [],
   "source": [
    "x_train_postag = []\n",
    "for s in x_train:\n",
    "    x_train_postag.append(pseg.lcut(s))"
   ]
  },
  {
   "cell_type": "code",
   "execution_count": 24,
   "metadata": {},
   "outputs": [],
   "source": [
    "flag_dict = {}\n",
    "for s in x_train_postag:\n",
    "    for word, flag in s:\n",
    "        if flag not in flag_dict:\n",
    "            flag_dict[flag] = 1\n",
    "#         print(word, flag)"
   ]
  },
  {
   "cell_type": "code",
   "execution_count": 25,
   "metadata": {},
   "outputs": [
    {
     "name": "stdout",
     "output_type": "stream",
     "text": [
      "39\n"
     ]
    }
   ],
   "source": [
    "print(len(flag_dict))"
   ]
  },
  {
   "cell_type": "code",
   "execution_count": 26,
   "metadata": {},
   "outputs": [
    {
     "name": "stdout",
     "output_type": "stream",
     "text": [
      "三個\n",
      "人\n"
     ]
    }
   ],
   "source": [
    "sp = []\n",
    "for word, flag in x_train_postag[0]:\n",
    "    print(word)\n",
    "    sp.append(vocab['V'+word])"
   ]
  },
  {
   "cell_type": "code",
   "execution_count": 27,
   "metadata": {},
   "outputs": [
    {
     "data": {
      "text/plain": [
       "[pair('三個', 'm'), pair('人', 'n')]"
      ]
     },
     "execution_count": 27,
     "metadata": {},
     "output_type": "execute_result"
    }
   ],
   "source": [
    "x_train_postag[0]"
   ]
  },
  {
   "cell_type": "code",
   "execution_count": 28,
   "metadata": {},
   "outputs": [],
   "source": [
    "for i in flag_dict:\n",
    "    vocab.parse(i.upper())"
   ]
  },
  {
   "cell_type": "code",
   "execution_count": 29,
   "metadata": {},
   "outputs": [
    {
     "data": {
      "text/plain": [
       "940"
      ]
     },
     "execution_count": 29,
     "metadata": {},
     "output_type": "execute_result"
    }
   ],
   "source": [
    "len(vocab.keys)"
   ]
  },
  {
   "cell_type": "code",
   "execution_count": 30,
   "metadata": {},
   "outputs": [],
   "source": [
    "sentence_bind_pos = []\n",
    "for s in x_train_postag:\n",
    "    new_s = vocab['Start']\n",
    "    for word, flag in s:\n",
    "        new_token = vocab['V'+str(word)]*vocab[flag.upper()]\n",
    "        new_s += new_token\n",
    "    sentence_bind_pos.append(new_s)"
   ]
  },
  {
   "cell_type": "code",
   "execution_count": 32,
   "metadata": {},
   "outputs": [],
   "source": [
    "x_train_sp = np.zeros((len(x_train),DIM))"
   ]
  },
  {
   "cell_type": "code",
   "execution_count": 33,
   "metadata": {},
   "outputs": [],
   "source": [
    "for i in range(len(sentence_bind_pos)):\n",
    "    x_train_sp[i] = sentence_bind_pos[i].v"
   ]
  },
  {
   "cell_type": "code",
   "execution_count": null,
   "metadata": {},
   "outputs": [],
   "source": []
  }
 ],
 "metadata": {
  "kernelspec": {
   "display_name": "NLP",
   "language": "python",
   "name": "nlp"
  },
  "language_info": {
   "codemirror_mode": {
    "name": "ipython",
    "version": 3
   },
   "file_extension": ".py",
   "mimetype": "text/x-python",
   "name": "python",
   "nbconvert_exporter": "python",
   "pygments_lexer": "ipython3",
   "version": "3.6.4"
  }
 },
 "nbformat": 4,
 "nbformat_minor": 2
}
