{
 "cells": [
  {
   "cell_type": "code",
   "execution_count": 1,
   "metadata": {},
   "outputs": [
    {
     "name": "stderr",
     "output_type": "stream",
     "text": [
      "/home/yyliu/anaconda3/envs/NLP/lib/python3.6/site-packages/h5py/__init__.py:36: FutureWarning: Conversion of the second argument of issubdtype from `float` to `np.floating` is deprecated. In future, it will be treated as `np.float64 == np.dtype(float).type`.\n",
      "  from ._conv import register_converters as _register_converters\n"
     ]
    }
   ],
   "source": [
    "import utils.data_preprocess as data_preprocess\n",
    "import utils.tokenize_data_helper as tokenize_data_helper\n",
    "import nengo\n",
    "from nengo.exceptions import SpaParseError, ValidationError\n",
    "import sys\n",
    "import numpy as np\n",
    "from nengo.spa import pointer\n",
    "from tensorflow.python.keras.preprocessing.text import Tokenizer\n",
    "from tensorflow.python.keras.preprocessing.sequence import pad_sequences\n"
   ]
  },
  {
   "cell_type": "code",
   "execution_count": 2,
   "metadata": {},
   "outputs": [],
   "source": [
    "DIM = 100\n",
    "W2V_MODEL = '100features_20context_20mincount_zht'\n",
    "CONTROL_TRAIN = 'control.txt'\n",
    "DEMENTIA_TRAIN = 'dementia.txt'\n",
    "CONTROL_ORIGIN = 'control_origin.txt'\n",
    "DEMENTIA_ORIGIN = 'dementia_origin.txt'\n",
    "CONTROL_TEST = 'control_test.txt'\n",
    "DEMENTIA_TEST = 'dementia_test.txt'"
   ]
  },
  {
   "cell_type": "code",
   "execution_count": 3,
   "metadata": {},
   "outputs": [
    {
     "name": "stdout",
     "output_type": "stream",
     "text": [
      "Load word2vec model sucess ...\n",
      "Number of token: 259425\n",
      "Dimensions of word vector: 100\n"
     ]
    }
   ],
   "source": [
    "w2v_model, _, w2v_dict = data_preprocess.load_wordvec_model(W2V_MODEL)\n",
    "vocab = nengo.spa.Vocabulary(DIM, max_similarity=0.3) # optional max_similarity: 0.1"
   ]
  },
  {
   "cell_type": "code",
   "execution_count": 4,
   "metadata": {},
   "outputs": [
    {
     "name": "stderr",
     "output_type": "stream",
     "text": [
      "Building prefix dict from /home/yyliu/code/NLP/data/dict.txt.big ...\n"
     ]
    },
    {
     "name": "stdout",
     "output_type": "stream",
     "text": [
      "total number of train set: 784\n",
      "sentence number of dementia subject: 394\n",
      "sentence number of control normal subject: 390\n"
     ]
    },
    {
     "name": "stderr",
     "output_type": "stream",
     "text": [
      "Dumping model to file cache /tmp/jieba.u74f96b08eeb68fe4b0ac4c13a6f276ed.cache\n",
      "Loading model cost 1.520 seconds.\n",
      "Prefix dict has been built succesfully.\n"
     ]
    },
    {
     "name": "stdout",
     "output_type": "stream",
     "text": [
      "total number of train set: 89\n",
      "sentence number of dementia subject: 48\n",
      "sentence number of control normal subject: 41\n"
     ]
    }
   ],
   "source": [
    "num_words = 1000\n",
    "x_train, y_train = data_preprocess.read_sentence(DEMENTIA_TRAIN, CONTROL_TRAIN)\n",
    "x_train_seg = data_preprocess.segmentation(x_train)\n",
    "x_test, y_test = data_preprocess.read_sentence(DEMENTIA_TEST, CONTROL_TEST)\n",
    "x_test_seg = data_preprocess.segmentation(x_test)\n",
    "data_helper = tokenize_data_helper.tokenize_data_helper(x_train_seg, num_words)\n",
    "x_train_tokens, x_test_tokens = data_helper.tokenize_data(x_train_seg, x_test_seg)\n",
    "x_train_pad, x_test_pad = data_helper.pad_tokenize(x_train_tokens, x_test_tokens)\n"
   ]
  },
  {
   "cell_type": "code",
   "execution_count": null,
   "metadata": {},
   "outputs": [],
   "source": [
    "x_train_tokens[0]"
   ]
  },
  {
   "cell_type": "code",
   "execution_count": null,
   "metadata": {},
   "outputs": [],
   "source": [
    "# test_text = []\n",
    "# for i in x_train_tokens[0]:\n",
    "#     test_text.append(data_helper.tokens_to_string(i))\n",
    "# print(test_text)\n",
    "data_helper.tokens_to_string(x_train_tokens[0])"
   ]
  },
  {
   "cell_type": "code",
   "execution_count": null,
   "metadata": {},
   "outputs": [],
   "source": [
    "oov = []\n",
    "# for sentences in x_train_seg:\n",
    "#     for token in sentences.split():\n",
    "#         try:\n",
    "#             vocab.add(str('V'+token), w2v_dict[token])\n",
    "#         except KeyError:\n",
    "#             oov.append(token)\n",
    "#             value = vocab.create_pointer(attempts=100)\n",
    "#             vocab.add(str('V'+token), value)\n",
    "#             continue\n",
    "#         except ValidationError:\n",
    "#             pass\n",
    "# data_helper.tokenizer.word_index\n",
    "for token, i in data_helper.tokenizer.word_index.items():\n",
    "    try:\n",
    "        vocab.add(str('V'+token), w2v_dict[token])\n",
    "    except KeyError:\n",
    "        oov.append(token)\n",
    "        value = vocab.create_pointer(attempts=100)\n",
    "        vocab.add(str('V'+token), value)\n",
    "        continue\n",
    "vocab.add('Start', np.zeros(DIM))"
   ]
  },
  {
   "cell_type": "code",
   "execution_count": null,
   "metadata": {},
   "outputs": [],
   "source": [
    "print(len(oov))"
   ]
  },
  {
   "cell_type": "code",
   "execution_count": null,
   "metadata": {},
   "outputs": [],
   "source": [
    "assert len(vocab.keys)-1 == len(data_helper.tokenizer.word_index.keys())\n",
    "print(len(vocab.keys))\n",
    "print(len(data_helper.tokenizer.word_index.keys()))"
   ]
  },
  {
   "cell_type": "code",
   "execution_count": null,
   "metadata": {},
   "outputs": [],
   "source": [
    "# print(vocab.keys[0], vocab[vocab.keys[0]])\n",
    "print(vocab.keys[-5:-1])"
   ]
  },
  {
   "cell_type": "code",
   "execution_count": 5,
   "metadata": {},
   "outputs": [],
   "source": [
    "model_path = 'edu/stanford/nlp/models/lexparser/chinesePCFG.ser.gz'"
   ]
  },
  {
   "cell_type": "code",
   "execution_count": 6,
   "metadata": {},
   "outputs": [
    {
     "name": "stdout",
     "output_type": "stream",
     "text": [
      "(('洗', 'VV'), 'nsubj', ('媽媽', 'NR'))\n",
      "(('洗', 'VV'), 'advmod', ('在', 'AD'))\n",
      "(('洗', 'VV'), 'dobj', ('盤子', 'NN'))\n",
      "(ROOT (IP (NP (NR 媽媽)) (VP (ADVP (AD 在)) (VP (VV 洗) (NP (NN 盤子))))))\n",
      "None\n"
     ]
    }
   ],
   "source": [
    "s = u\"媽媽 在 洗 盤子\"\n",
    "\n",
    "# 依存分析\n",
    "from nltk.parse.stanford import StanfordDependencyParser\n",
    "parser = StanfordDependencyParser(model_path=model_path)\n",
    "result = list(parser.parse(s.split()))\n",
    "for row in result[0].triples():\n",
    "    print(row)\n",
    "\n",
    "# 句法结构分析\n",
    "from nltk.parse.stanford import StanfordParser\n",
    "parser = StanfordParser(model_path=model_path)\n",
    "result_2 = list(parser.parse(s.split()))\n",
    "for r in result_2:\n",
    "    print(r)\n",
    "    print(r.draw())\n"
   ]
  },
  {
   "cell_type": "code",
   "execution_count": null,
   "metadata": {},
   "outputs": [],
   "source": [
    "result = []\n",
    "for s in x_train_seg:\n",
    "    tree_tmp = list(parser.parse(s.split()))\n",
    "    result.append(tree_tmp[0])"
   ]
  },
  {
   "cell_type": "code",
   "execution_count": null,
   "metadata": {},
   "outputs": [],
   "source": [
    "# for r in result:\n",
    "#     print(r.height())\n",
    "result_height = [r.height() for r in result]\n",
    "print(np.mean(result_height[:394]))\n",
    "print(np.mean(result_height[394:]))\n",
    "import matplotlib.pyplot as plt\n",
    "import seaborn\n",
    "seaborn.distplot(result_height[:394], color='r', label='dementia')\n",
    "seaborn.distplot(result_height[394:], color='g', label='control')\n",
    "plt.title('Distribution of syntactic complexity')\n",
    "plt.legend()\n",
    "plt.show()"
   ]
  },
  {
   "cell_type": "code",
   "execution_count": 7,
   "metadata": {},
   "outputs": [
    {
     "name": "stdout",
     "output_type": "stream",
     "text": [
      "total number of train set: 873\n",
      "sentence number of dementia subject: 442\n",
      "sentence number of control normal subject: 431\n",
      "三個人\n"
     ]
    }
   ],
   "source": [
    "x_train_sent, y_train_sent = data_preprocess.read_sentence(DEMENTIA_ORIGIN, CONTROL_ORIGIN)\n",
    "print(x_train_sent[0])\n",
    "x_train_sent_seg = data_preprocess.segmentation(x_train_sent)"
   ]
  },
  {
   "cell_type": "code",
   "execution_count": 9,
   "metadata": {},
   "outputs": [],
   "source": [
    "result_sent = []\n",
    "for p in x_train_sent_seg:\n",
    "    tree_sent = list(parser.parse(p.split()))\n",
    "    result_sent.append(tree_sent[0])"
   ]
  },
  {
   "cell_type": "code",
   "execution_count": 11,
   "metadata": {},
   "outputs": [
    {
     "name": "stdout",
     "output_type": "stream",
     "text": [
      "6.891402714932127\n",
      "7.642691415313225\n"
     ]
    },
    {
     "name": "stderr",
     "output_type": "stream",
     "text": [
      "/home/yyliu/anaconda3/envs/NLP/lib/python3.6/site-packages/matplotlib/axes/_axes.py:6462: UserWarning: The 'normed' kwarg is deprecated, and has been replaced by the 'density' kwarg.\n",
      "  warnings.warn(\"The 'normed' kwarg is deprecated, and has been \"\n"
     ]
    },
    {
     "data": {
      "image/png": "[encoded data removed]",
      "text/plain": [
       "<Figure size 432x288 with 1 Axes>"
      ]
     },
     "metadata": {},
     "output_type": "display_data"
    }
   ],
   "source": [
    "result_para_height = [r.height() for r in result_sent]\n",
    "print(np.mean(result_para_height[:442]))\n",
    "print(np.mean(result_para_height[442:]))\n",
    "import matplotlib.pyplot as plt\n",
    "import seaborn\n",
    "seaborn.distplot(result_para_height[:442], color='r', label='dementia')\n",
    "seaborn.distplot(result_para_height[442:], color='g', label='control')\n",
    "plt.title('Distribution of syntactic complexity')\n",
    "plt.legend()\n",
    "plt.show()"
   ]
  },
  {
   "cell_type": "code",
   "execution_count": 17,
   "metadata": {},
   "outputs": [],
   "source": [
    "with open('sentence_depth.csv', 'w') as f:\n",
    "    for i in result_para_height:\n",
    "        f.write(str(i))\n",
    "        f.write('\\n')"
   ]
  },
  {
   "cell_type": "code",
   "execution_count": null,
   "metadata": {},
   "outputs": [],
   "source": [
    "for i, r in enumerate(result_2[0].subtrees()):\n",
    "    print(r, i)\n",
    "# result_2[0].subtrees()"
   ]
  },
  {
   "cell_type": "code",
   "execution_count": null,
   "metadata": {},
   "outputs": [],
   "source": [
    "tree = result_2[0]\n",
    "print(tree.pos())\n",
    "print(tree.height)"
   ]
  },
  {
   "cell_type": "code",
   "execution_count": null,
   "metadata": {},
   "outputs": [],
   "source": [
    "for s in tree.subtrees(lambda tree: tree.height() == 2):\n",
    "    print(s.productions())"
   ]
  },
  {
   "cell_type": "code",
   "execution_count": null,
   "metadata": {},
   "outputs": [],
   "source": [
    "# parser = StanfordParser(model_path=model_path)\n",
    "# def parser_tree(sentence):\n",
    "#     result = list(parser.parse(sentence.split()))\n",
    "#     return result"
   ]
  },
  {
   "cell_type": "code",
   "execution_count": null,
   "metadata": {},
   "outputs": [],
   "source": [
    "# x_train_tree = []\n",
    "# for s in x_train_seg:\n",
    "#     tree_tmp = list(parser.parse(s.split()))\n",
    "#     x_train_tree.append(tree_tmp)"
   ]
  },
  {
   "cell_type": "code",
   "execution_count": null,
   "metadata": {},
   "outputs": [],
   "source": [
    "import jieba.posseg as pseg"
   ]
  },
  {
   "cell_type": "code",
   "execution_count": null,
   "metadata": {},
   "outputs": [],
   "source": [
    "x_train_postag = []\n",
    "for s in x_train:\n",
    "    x_train_postag.append(pseg.lcut(s))"
   ]
  },
  {
   "cell_type": "code",
   "execution_count": null,
   "metadata": {},
   "outputs": [],
   "source": [
    "flag_dict = {}\n",
    "for s in x_train_postag:\n",
    "    for word, flag in s:\n",
    "        if flag not in flag_dict:\n",
    "            flag_dict[flag] = 1\n",
    "#         print(word, flag)"
   ]
  },
  {
   "cell_type": "code",
   "execution_count": null,
   "metadata": {},
   "outputs": [],
   "source": [
    "print(len(flag_dict))"
   ]
  },
  {
   "cell_type": "code",
   "execution_count": null,
   "metadata": {},
   "outputs": [],
   "source": [
    "sp = []\n",
    "for word, flag in x_train_postag[0]:\n",
    "    print(word)\n",
    "    sp.append(vocab['V'+word])"
   ]
  },
  {
   "cell_type": "code",
   "execution_count": null,
   "metadata": {},
   "outputs": [],
   "source": [
    "x_train_postag[0]"
   ]
  },
  {
   "cell_type": "code",
   "execution_count": null,
   "metadata": {},
   "outputs": [],
   "source": [
    "for i in flag_dict:\n",
    "    vocab.parse(i.upper())"
   ]
  },
  {
   "cell_type": "code",
   "execution_count": null,
   "metadata": {},
   "outputs": [],
   "source": [
    "len(vocab.keys)"
   ]
  },
  {
   "cell_type": "code",
   "execution_count": null,
   "metadata": {},
   "outputs": [],
   "source": [
    "sentence_bind_pos = []\n",
    "for s in x_train_postag:\n",
    "    new_s = vocab['Start']\n",
    "    for word, flag in s:\n",
    "        new_token = vocab['V'+str(word)]*vocab[flag.upper()]\n",
    "        new_s += new_token\n",
    "    sentence_bind_pos.append(new_s)"
   ]
  },
  {
   "cell_type": "code",
   "execution_count": null,
   "metadata": {},
   "outputs": [],
   "source": [
    "x_train_sp = np.zeros((len(x_train),DIM))"
   ]
  },
  {
   "cell_type": "code",
   "execution_count": null,
   "metadata": {},
   "outputs": [],
   "source": [
    "for i in range(len(sentence_bind_pos)):\n",
    "    x_train_sp[i] = sentence_bind_pos[i].v"
   ]
  },
  {
   "cell_type": "code",
   "execution_count": null,
   "metadata": {},
   "outputs": [],
   "source": []
  }
 ],
 "metadata": {
  "kernelspec": {
   "display_name": "NLP",
   "language": "python",
   "name": "nlp"
  },
  "language_info": {
   "codemirror_mode": {
    "name": "ipython",
    "version": 3
   },
   "file_extension": ".py",
   "mimetype": "text/x-python",
   "name": "python",
   "nbconvert_exporter": "python",
   "pygments_lexer": "ipython3",
   "version": "3.6.4"
  }
 },
 "nbformat": 4,
 "nbformat_minor": 2
}
