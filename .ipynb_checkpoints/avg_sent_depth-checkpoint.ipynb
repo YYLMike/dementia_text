{
 "cells": [
  {
   "cell_type": "code",
   "execution_count": 7,
   "metadata": {},
   "outputs": [],
   "source": [
    "sentence_num = []\n",
    "with open('sentence_num.txt', 'r') as f:\n",
    "    for i in f.readlines():\n",
    "        sentence_num.append(int(i.strip('\\n')))\n",
    "sentence_depth = []\n",
    "with open('sentence_depth.txt', 'r') as f:\n",
    "    for i in f.readlines():\n",
    "        sentence_depth.append(int(i.strip('\\n')))"
   ]
  },
  {
   "cell_type": "code",
   "execution_count": 8,
   "metadata": {},
   "outputs": [
    {
     "data": {
      "text/plain": [
       "5"
      ]
     },
     "execution_count": 8,
     "metadata": {},
     "output_type": "execute_result"
    }
   ],
   "source": [
    "sentence_depth[0]\n"
   ]
  },
  {
   "cell_type": "code",
   "execution_count": 9,
   "metadata": {},
   "outputs": [],
   "source": [
    "avg_sent_depth = []\n",
    "\n",
    "idx = 0\n",
    "for i in range(len(sentence_num)):\n",
    "    tmp_sum = 0\n",
    "    for j in range(int(sentence_num[i])):\n",
    "        tmp_sum += sentence_depth[j+idx]\n",
    "    avg_sent_depth.append(tmp_sum/sentence_num[i])\n",
    "    idx += sentence_num[i]\n",
    "with open('avg_sent_depth.txt', 'w') as f:\n",
    "    for i in avg_sent_depth:\n",
    "        f.write(str(i))\n",
    "        f.write('\\n')"
   ]
  },
  {
   "cell_type": "code",
   "execution_count": null,
   "metadata": {},
   "outputs": [],
   "source": []
  }
 ],
 "metadata": {
  "kernelspec": {
   "display_name": "NLP",
   "language": "python",
   "name": "nlp"
  },
  "language_info": {
   "codemirror_mode": {
    "name": "ipython",
    "version": 3
   },
   "file_extension": ".py",
   "mimetype": "text/x-python",
   "name": "python",
   "nbconvert_exporter": "python",
   "pygments_lexer": "ipython3",
   "version": "3.6.4"
  }
 },
 "nbformat": 4,
 "nbformat_minor": 2
}
