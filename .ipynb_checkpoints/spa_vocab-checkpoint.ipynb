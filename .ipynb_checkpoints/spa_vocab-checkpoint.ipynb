{
 "cells": [
  {
   "cell_type": "code",
   "execution_count": 1,
   "metadata": {},
   "outputs": [],
   "source": [
    "import data_preprocess\n",
    "import nengo\n",
    "from nengo.exceptions import SpaParseError, ValidationError\n",
    "import sys\n",
    "import numpy as np\n",
    "from nengo.spa import pointer\n",
    "from tensorflow.python.keras.preprocessing.text import Tokenizer\n",
    "from tensorflow.python.keras.preprocessing.sequence import pad_sequences\n"
   ]
  },
  {
   "cell_type": "code",
   "execution_count": 2,
   "metadata": {},
   "outputs": [],
   "source": [
    "class Data_helper():\n",
    "\n",
    "    def __init__(self, fit_data, num_words):\n",
    "        self.tokenizer = self.tokenize(fit_data, num_words)\n",
    "        self.idx = self.tokenizer.word_index\n",
    "        self.inverse_map = dict(zip(self.idx.values(), self.idx.keys()))\n",
    "    \n",
    "    def tokenize(self, fit_data, num_words=1000):\n",
    "        self.tokenizer = Tokenizer(num_words=num_words)\n",
    "        self.tokenizer.fit_on_texts(fit_data)\n",
    "        return self.tokenizer\n",
    "\n",
    "    def tokenize_data(self, x_train, x_test):\n",
    "        return self.tokenizer.texts_to_sequences(x_train), self.tokenizer.texts_to_sequences(x_test)\n",
    "\n",
    "    def pad_tokenize(self, x_train_tokens, x_test_tokens, pad='post'):\n",
    "        num_tokens = [len(tokens) for tokens in x_train_tokens+x_test_tokens]\n",
    "        global max_tokens\n",
    "        max_tokens = np.max(num_tokens)\n",
    "        x_train_pad = pad_sequences(x_train_tokens, maxlen=max_tokens, padding=pad, truncating=pad)\n",
    "        x_test_pad = pad_sequences(x_test_tokens, maxlen=max_tokens, padding=pad, truncating=pad)\n",
    "        return x_train_pad, x_test_pad\n",
    "\n",
    "    def tokens_to_string(self, tokens):\n",
    "        words = [self.inverse_map[token] for token in tokens if token != 0]\n",
    "        text = ' '.join(words)\n",
    "        return text\n",
    "    \n",
    "    def embedding_matrix(self, pretrained_dict):\n",
    "        word_index = self.tokenizer.word_index\n",
    "        word_embedding = np.zeros((num_words, EMBEDDING_DIM))\n",
    "        for word, i in word_index.items():\n",
    "            embedding_vector = pretrained_dict.get(word)\n",
    "            if embedding_vector is not None:\n",
    "                word_embedding[i] = embedding_vector\n",
    "        return word_embedding"
   ]
  },
  {
   "cell_type": "code",
   "execution_count": 3,
   "metadata": {},
   "outputs": [],
   "source": [
    "DIM = 100\n",
    "W2V_MODEL = '100features_20context_20mincount_zht'\n",
    "CONTROL_TRAIN = 'control.txt'\n",
    "DEMENTIA_TRAIN = 'dementia.txt'\n",
    "CONTROL_TEST = 'control_test.txt'\n",
    "DEMENTIA_TEST = 'dementia_test.txt'"
   ]
  },
  {
   "cell_type": "code",
   "execution_count": 4,
   "metadata": {},
   "outputs": [
    {
     "name": "stdout",
     "output_type": "stream",
     "text": [
      "Load word2vec model sucess ...\n",
      "Number of token: 259425\n",
      "Dimensions of word vector: 100\n"
     ]
    }
   ],
   "source": [
    "w2v_model, _, w2v_dict = data_preprocess.load_wordvec_model(W2V_MODEL)\n",
    "vocab = nengo.spa.Vocabulary(100, max_similarity=0.3) # optional max_similarity: 0.1"
   ]
  },
  {
   "cell_type": "code",
   "execution_count": 5,
   "metadata": {},
   "outputs": [
    {
     "name": "stderr",
     "output_type": "stream",
     "text": [
      "Building prefix dict from /home/yyliu/code/NLP/data/dict.txt.big ...\n",
      "Loading model from cache /tmp/jieba.u74f96b08eeb68fe4b0ac4c13a6f276ed.cache\n"
     ]
    },
    {
     "name": "stdout",
     "output_type": "stream",
     "text": [
      "total number of train set: 784\n",
      "sentence number of dementia subject: 394\n",
      "sentence number of control normal subject: 390\n"
     ]
    },
    {
     "name": "stderr",
     "output_type": "stream",
     "text": [
      "Loading model cost 1.319 seconds.\n",
      "Prefix dict has been built succesfully.\n"
     ]
    },
    {
     "name": "stdout",
     "output_type": "stream",
     "text": [
      "total number of train set: 89\n",
      "sentence number of dementia subject: 48\n",
      "sentence number of control normal subject: 41\n"
     ]
    }
   ],
   "source": [
    "num_words = 1000\n",
    "x_train, y_train = data_preprocess.read_sentence(DEMENTIA_TRAIN, CONTROL_TRAIN)\n",
    "x_train_seg = data_preprocess.segmentation(x_train)\n",
    "x_test, y_test = data_preprocess.read_sentence(DEMENTIA_TEST, CONTROL_TEST)\n",
    "x_test_seg = data_preprocess.segmentation(x_test)\n",
    "data_helper = Data_helper(x_train_seg, num_words)\n",
    "x_train_tokens, x_test_tokens = data_helper.tokenize_data(x_train_seg, x_test_seg)\n",
    "x_train_pad, x_test_pad = data_helper.pad_tokenize(x_train_tokens, x_test_tokens)\n"
   ]
  },
  {
   "cell_type": "code",
   "execution_count": 6,
   "metadata": {},
   "outputs": [
    {
     "data": {
      "text/plain": [
       "[151, 115]"
      ]
     },
     "execution_count": 6,
     "metadata": {},
     "output_type": "execute_result"
    }
   ],
   "source": [
    "x_train_tokens[0]"
   ]
  },
  {
   "cell_type": "code",
   "execution_count": 7,
   "metadata": {},
   "outputs": [
    {
     "data": {
      "text/plain": [
       "'三個 人'"
      ]
     },
     "execution_count": 7,
     "metadata": {},
     "output_type": "execute_result"
    }
   ],
   "source": [
    "# test_text = []\n",
    "# for i in x_train_tokens[0]:\n",
    "#     test_text.append(data_helper.tokens_to_string(i))\n",
    "# print(test_text)\n",
    "data_helper.tokens_to_string(x_train_tokens[0])"
   ]
  },
  {
   "cell_type": "code",
   "execution_count": 8,
   "metadata": {},
   "outputs": [],
   "source": [
    "oov = []\n",
    "# for sentences in x_train_seg:\n",
    "#     for token in sentences.split():\n",
    "#         try:\n",
    "#             vocab.add(str('V'+token), w2v_dict[token])\n",
    "#         except KeyError:\n",
    "#             oov.append(token)\n",
    "#             value = vocab.create_pointer(attempts=100)\n",
    "#             vocab.add(str('V'+token), value)\n",
    "#             continue\n",
    "#         except ValidationError:\n",
    "#             pass\n",
    "# data_helper.tokenizer.word_index\n",
    "for token, i in data_helper.tokenizer.word_index.items():\n",
    "    try:\n",
    "        vocab.add(str('V'+token), w2v_dict[token])\n",
    "    except KeyError:\n",
    "        oov.append(token)\n",
    "        value = vocab.create_pointer(attempts=100)\n",
    "        vocab.add(str('V'+token), value)\n",
    "        continue"
   ]
  },
  {
   "cell_type": "code",
   "execution_count": 9,
   "metadata": {},
   "outputs": [
    {
     "data": {
      "text/plain": [
       "['水溢',\n",
       " '水滿',\n",
       " '洗碗盤',\n",
       " '站不穩',\n",
       " '漏出來',\n",
       " '流理台',\n",
       " '點心吃',\n",
       " '流理',\n",
       " '流下來',\n",
       " '爬高',\n",
       " '櫥子',\n",
       " '沒關',\n",
       " '椅凳',\n",
       " '水都溢',\n",
       " '沒站',\n",
       " '穩快',\n",
       " '裡拿',\n",
       " '嘩啦啦',\n",
       " '椅腳',\n",
       " '餅乾盒',\n",
       " '踮',\n",
       " '還拿著',\n",
       " '有草',\n",
       " '水噴',\n",
       " '他採',\n",
       " '洗出來',\n",
       " '歪歪斜斜',\n",
       " '這開',\n",
       " '淋濕',\n",
       " '沒拿到',\n",
       " '水太多',\n",
       " '翻掉',\n",
       " '滴下來',\n",
       " '擦乾淨',\n",
       " '布要',\n",
       " '跌跤',\n",
       " '在搖',\n",
       " '關了',\n",
       " '有樹',\n",
       " '裡流',\n",
       " '關家裡',\n",
       " '擦洗',\n",
       " '這想個',\n",
       " '講些',\n",
       " '太超',\n",
       " '滿到',\n",
       " '水倒',\n",
       " '水都流',\n",
       " '淹到',\n",
       " '洗盤',\n",
       " '水漫',\n",
       " '洗手台',\n",
       " '洗手盆',\n",
       " '中溢',\n",
       " '洗到',\n",
       " '槽裡',\n",
       " '關緊',\n",
       " '關窗',\n",
       " '貪嘴',\n",
       " '則看',\n",
       " '神情自若',\n",
       " '矮房',\n",
       " '著連',\n",
       " '搶著',\n",
       " '上樑不正下樑歪',\n",
       " '淹過',\n",
       " '則站',\n",
       " '餐碗',\n",
       " '他失',\n",
       " '水瀉',\n",
       " '出流理',\n",
       " '2',\n",
       " '不太穩',\n",
       " '溢水',\n",
       " '已滿出',\n",
       " '溼答答',\n",
       " '並遞',\n",
       " '給站',\n",
       " '台放',\n",
       " '沒洗',\n",
       " '水漏',\n",
       " '穩要',\n",
       " '兩人齊',\n",
       " '水開',\n",
       " '台流',\n",
       " '罐裡',\n",
       " '連水',\n",
       " '地不受',\n",
       " '流著水',\n",
       " '洗著',\n",
       " '著腳',\n",
       " '碗櫥',\n",
       " '拿些',\n",
       " '能接',\n",
       " '還在流',\n",
       " '邊玩',\n",
       " '水都濺',\n",
       " '不館',\n",
       " '瓶瓶罐罐',\n",
       " '正忙',\n",
       " '椅去']"
      ]
     },
     "execution_count": 9,
     "metadata": {},
     "output_type": "execute_result"
    }
   ],
   "source": [
    "oov"
   ]
  },
  {
   "cell_type": "code",
   "execution_count": 20,
   "metadata": {},
   "outputs": [],
   "source": [
    "assert len(vocab.keys) == len(data_helper.tokenizer.word_index.keys())"
   ]
  },
  {
   "cell_type": "code",
   "execution_count": 21,
   "metadata": {},
   "outputs": [],
   "source": [
    "# print(vocab.keys[0], vocab[vocab.keys[0]])"
   ]
  },
  {
   "cell_type": "code",
   "execution_count": null,
   "metadata": {},
   "outputs": [],
   "source": []
  },
  {
   "cell_type": "code",
   "execution_count": null,
   "metadata": {},
   "outputs": [],
   "source": []
  }
 ],
 "metadata": {
  "kernelspec": {
   "display_name": "NLP",
   "language": "python",
   "name": "nlp"
  },
  "language_info": {
   "codemirror_mode": {
    "name": "ipython",
    "version": 3
   },
   "file_extension": ".py",
   "mimetype": "text/x-python",
   "name": "python",
   "nbconvert_exporter": "python",
   "pygments_lexer": "ipython3",
   "version": "3.6.4"
  }
 },
 "nbformat": 4,
 "nbformat_minor": 2
}
