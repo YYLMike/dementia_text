{
 "cells": [
  {
   "cell_type": "code",
   "execution_count": 1,
   "metadata": {},
   "outputs": [],
   "source": [
    "import data_preprocess\n",
    "import tokenize_data_helper\n",
    "import nengo\n",
    "from nengo.exceptions import SpaParseError, ValidationError\n",
    "import sys\n",
    "import numpy as np\n",
    "from nengo.spa import pointer\n",
    "from tensorflow.python.keras.preprocessing.text import Tokenizer\n",
    "from tensorflow.python.keras.preprocessing.sequence import pad_sequences\n"
   ]
  },
  {
   "cell_type": "code",
   "execution_count": 2,
   "metadata": {},
   "outputs": [],
   "source": [
    "DIM = 100\n",
    "W2V_MODEL = '100features_20context_20mincount_zht'\n",
    "CONTROL_TRAIN = 'control.txt'\n",
    "DEMENTIA_TRAIN = 'dementia.txt'\n",
    "CONTROL_TEST = 'control_test.txt'\n",
    "DEMENTIA_TEST = 'dementia_test.txt'"
   ]
  },
  {
   "cell_type": "code",
   "execution_count": 3,
   "metadata": {},
   "outputs": [
    {
     "name": "stdout",
     "output_type": "stream",
     "text": [
      "Load word2vec model sucess ...\n",
      "Number of token: 259425\n",
      "Dimensions of word vector: 100\n"
     ]
    }
   ],
   "source": [
    "w2v_model, _, w2v_dict = data_preprocess.load_wordvec_model(W2V_MODEL)\n",
    "vocab = nengo.spa.Vocabulary(100, max_similarity=0.3) # optional max_similarity: 0.1"
   ]
  },
  {
   "cell_type": "code",
   "execution_count": 4,
   "metadata": {},
   "outputs": [
    {
     "name": "stderr",
     "output_type": "stream",
     "text": [
      "Building prefix dict from /home/yyliu/code/NLP/data/dict.txt.big ...\n",
      "Loading model from cache /tmp/jieba.u74f96b08eeb68fe4b0ac4c13a6f276ed.cache\n"
     ]
    },
    {
     "name": "stdout",
     "output_type": "stream",
     "text": [
      "total number of train set: 784\n",
      "sentence number of dementia subject: 394\n",
      "sentence number of control normal subject: 390\n"
     ]
    },
    {
     "name": "stderr",
     "output_type": "stream",
     "text": [
      "Loading model cost 1.179 seconds.\n",
      "Prefix dict has been built succesfully.\n"
     ]
    },
    {
     "name": "stdout",
     "output_type": "stream",
     "text": [
      "total number of train set: 89\n",
      "sentence number of dementia subject: 48\n",
      "sentence number of control normal subject: 41\n"
     ]
    }
   ],
   "source": [
    "num_words = 1000\n",
    "x_train, y_train = data_preprocess.read_sentence(DEMENTIA_TRAIN, CONTROL_TRAIN)\n",
    "x_train_seg = data_preprocess.segmentation(x_train)\n",
    "x_test, y_test = data_preprocess.read_sentence(DEMENTIA_TEST, CONTROL_TEST)\n",
    "x_test_seg = data_preprocess.segmentation(x_test)\n",
    "data_helper = tokenize_data_helper.tokenize_data_helper(x_train_seg, num_words)\n",
    "x_train_tokens, x_test_tokens = data_helper.tokenize_data(x_train_seg, x_test_seg)\n",
    "x_train_pad, x_test_pad = data_helper.pad_tokenize(x_train_tokens, x_test_tokens)\n"
   ]
  },
  {
   "cell_type": "code",
   "execution_count": 5,
   "metadata": {},
   "outputs": [
    {
     "data": {
      "text/plain": [
       "[150, 115]"
      ]
     },
     "execution_count": 5,
     "metadata": {},
     "output_type": "execute_result"
    }
   ],
   "source": [
    "x_train_tokens[0]"
   ]
  },
  {
   "cell_type": "code",
   "execution_count": 6,
   "metadata": {},
   "outputs": [
    {
     "data": {
      "text/plain": [
       "'三個 人'"
      ]
     },
     "execution_count": 6,
     "metadata": {},
     "output_type": "execute_result"
    }
   ],
   "source": [
    "# test_text = []\n",
    "# for i in x_train_tokens[0]:\n",
    "#     test_text.append(data_helper.tokens_to_string(i))\n",
    "# print(test_text)\n",
    "data_helper.tokens_to_string(x_train_tokens[0])"
   ]
  },
  {
   "cell_type": "code",
   "execution_count": 7,
   "metadata": {},
   "outputs": [],
   "source": [
    "oov = []\n",
    "# for sentences in x_train_seg:\n",
    "#     for token in sentences.split():\n",
    "#         try:\n",
    "#             vocab.add(str('V'+token), w2v_dict[token])\n",
    "#         except KeyError:\n",
    "#             oov.append(token)\n",
    "#             value = vocab.create_pointer(attempts=100)\n",
    "#             vocab.add(str('V'+token), value)\n",
    "#             continue\n",
    "#         except ValidationError:\n",
    "#             pass\n",
    "# data_helper.tokenizer.word_index\n",
    "for token, i in data_helper.tokenizer.word_index.items():\n",
    "    try:\n",
    "        vocab.add(str('V'+token), w2v_dict[token])\n",
    "    except KeyError:\n",
    "        oov.append(token)\n",
    "        value = vocab.create_pointer(attempts=100)\n",
    "        vocab.add(str('V'+token), value)\n",
    "        continue"
   ]
  },
  {
   "cell_type": "code",
   "execution_count": 10,
   "metadata": {},
   "outputs": [
    {
     "name": "stdout",
     "output_type": "stream",
     "text": [
      "100\n"
     ]
    }
   ],
   "source": [
    "print(len(oov))"
   ]
  },
  {
   "cell_type": "code",
   "execution_count": 9,
   "metadata": {},
   "outputs": [],
   "source": [
    "assert len(vocab.keys) == len(data_helper.tokenizer.word_index.keys())"
   ]
  },
  {
   "cell_type": "code",
   "execution_count": null,
   "metadata": {},
   "outputs": [],
   "source": [
    "# print(vocab.keys[0], vocab[vocab.keys[0]])"
   ]
  },
  {
   "cell_type": "code",
   "execution_count": null,
   "metadata": {},
   "outputs": [],
   "source": []
  },
  {
   "cell_type": "code",
   "execution_count": null,
   "metadata": {},
   "outputs": [],
   "source": []
  }
 ],
 "metadata": {
  "kernelspec": {
   "display_name": "NLP",
   "language": "python",
   "name": "nlp"
  },
  "language_info": {
   "codemirror_mode": {
    "name": "ipython",
    "version": 3
   },
   "file_extension": ".py",
   "mimetype": "text/x-python",
   "name": "python",
   "nbconvert_exporter": "python",
   "pygments_lexer": "ipython3",
   "version": "3.6.4"
  }
 },
 "nbformat": 4,
 "nbformat_minor": 2
}
