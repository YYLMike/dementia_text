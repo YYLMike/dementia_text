{
 "cells": [
  {
   "cell_type": "code",
   "execution_count": 1,
   "metadata": {},
   "outputs": [
    {
     "name": "stderr",
     "output_type": "stream",
     "text": [
      "/home/yyliu/anaconda3/envs/NLP/lib/python3.6/site-packages/h5py/__init__.py:36: FutureWarning: Conversion of the second argument of issubdtype from `float` to `np.floating` is deprecated. In future, it will be treated as `np.float64 == np.dtype(float).type`.\n",
      "  from ._conv import register_converters as _register_converters\n"
     ]
    }
   ],
   "source": [
    "import data_preprocess\n",
    "import tokenize_data_helper\n",
    "DIM = 100\n",
    "TRAIN_NUM_WORDS = 1000\n",
    "W2V_MODEL = '100features_20context_20mincount_zht'\n",
    "CONTROL_TRAIN = 'control.txt'\n",
    "DEMENTIA_TRAIN = 'dementia.txt'\n",
    "CONTROL_TEST = 'control_test.txt'\n",
    "DEMENTIA_TEST = 'dementia_test.txt'"
   ]
  },
  {
   "cell_type": "code",
   "execution_count": 2,
   "metadata": {},
   "outputs": [
    {
     "name": "stderr",
     "output_type": "stream",
     "text": [
      "Building prefix dict from /home/yyliu/code/NLP/data/dict.txt.big ...\n",
      "Loading model from cache /tmp/jieba.u74f96b08eeb68fe4b0ac4c13a6f276ed.cache\n"
     ]
    },
    {
     "name": "stdout",
     "output_type": "stream",
     "text": [
      "total number of train set: 784\n",
      "sentence number of dementia subject: 394\n",
      "sentence number of control normal subject: 390\n"
     ]
    },
    {
     "name": "stderr",
     "output_type": "stream",
     "text": [
      "Loading model cost 1.270 seconds.\n",
      "Prefix dict has been built succesfully.\n"
     ]
    }
   ],
   "source": [
    "x_train, y_train = data_preprocess.read_sentence(DEMENTIA_TRAIN, CONTROL_TRAIN)\n",
    "x_train_seg = data_preprocess.segmentation(x_train)\n",
    "x_train_seg_pos = data_preprocess.segmentation_postagger(x_train)\n",
    "y_train_scalar = data_preprocess.label_to_scalar(y_train)"
   ]
  },
  {
   "cell_type": "code",
   "execution_count": 3,
   "metadata": {},
   "outputs": [
    {
     "name": "stderr",
     "output_type": "stream",
     "text": [
      "/home/yyliu/anaconda3/envs/NLP/lib/python3.6/site-packages/sklearn/cross_validation.py:41: DeprecationWarning: This module was deprecated in version 0.18 in favor of the model_selection module into which all the refactored classes and functions are moved. Also note that the interface of the new CV iterators are different from that of this module. This module will be removed in 0.20.\n",
      "  \"This module will be removed in 0.20.\", DeprecationWarning)\n"
     ]
    }
   ],
   "source": [
    "from sklearn.cross_validation import StratifiedKFold"
   ]
  },
  {
   "cell_type": "code",
   "execution_count": 4,
   "metadata": {},
   "outputs": [],
   "source": [
    "skf = StratifiedKFold(y_train_scalar, n_folds=5, shuffle=True)\n"
   ]
  },
  {
   "cell_type": "code",
   "execution_count": 15,
   "metadata": {},
   "outputs": [
    {
     "name": "stdout",
     "output_type": "stream",
     "text": [
      "[  0   1   2   3   4   5   6   7   8   9  11  14  15  16  17  18  19  20\n",
      "  21  22  23  24  25  26  27  28  29  30  31  32  33  36  37  38  39  41\n",
      "  42  43  44  45  46  47  52  53  54  55  56  57  58  59  60  62  63  64\n",
      "  65  66  67  69  70  72  73  74  75  77  78  79  80  81  82  83  84  85\n",
      "  87  88  89  90  92  93  94  96  97  98 100 101 103 104 105 106 108 109\n",
      " 110 111 112 113 114 115 116 117 118 119 121 122 123 124 125 126 127 128\n",
      " 129 130 131 132 133 134 135 136 138 139 141 143 146 147 148 149 150 151\n",
      " 152 153 154 155 156 157 158 159 160 162 163 167 168 169 170 171 172 173\n",
      " 174 175 176 177 178 179 181 182 183 184 185 186 187 189 191 192 193 195\n",
      " 196 197 198 199 200 201 203 204 205 206 207 208 209 210 211 212 213 214\n",
      " 216 217 218 220 221 222 223 224 225 226 227 228 229 230 232 234 235 236\n",
      " 237 238 239 242 245 246 248 249 250 251 252 253 254 255 256 258 260 261\n",
      " 262 263 265 266 267 268 269 270 271 272 273 274 275 276 277 279 281 282\n",
      " 283 284 286 289 290 291 292 293 294 295 296 298 299 300 301 303 305 308\n",
      " 309 310 312 313 314 315 316 319 320 321 322 324 325 326 327 328 329 330\n",
      " 331 333 334 335 336 338 339 340 341 342 343 344 345 346 347 348 349 351\n",
      " 354 355 357 358 360 362 363 365 367 368 369 371 373 374 375 377 378 379\n",
      " 382 383 385 386 387 388 389 391 392 394 395 397 398 399 401 402 403 404\n",
      " 406 407 408 409 410 411 413 415 416 418 419 421 422 423 424 425 426 427\n",
      " 428 429 431 434 435 436 437 438 439 440 441 442 443 444 445 446 447 448\n",
      " 450 452 453 455 457 458 460 461 462 463 464 465 466 467 468 469 470 471\n",
      " 473 474 475 477 478 479 480 481 483 486 487 488 489 490 491 492 494 495\n",
      " 497 498 499 500 501 502 503 504 505 506 508 509 510 511 512 513 515 516\n",
      " 518 519 520 521 522 524 525 526 527 528 529 531 532 533 535 536 538 539\n",
      " 540 541 542 543 544 546 548 549 551 552 553 554 555 556 557 559 560 561\n",
      " 562 563 564 565 567 568 569 570 571 572 575 576 577 579 581 582 584 585\n",
      " 587 588 589 590 591 592 593 594 595 596 597 598 599 600 601 602 603 604\n",
      " 605 607 608 610 612 613 614 615 616 617 618 619 620 621 622 624 625 626\n",
      " 627 628 629 631 632 633 634 635 637 638 641 642 644 645 646 647 648 650\n",
      " 652 653 654 655 657 658 659 660 661 663 664 665 666 667 668 669 670 671\n",
      " 672 673 674 675 676 677 678 679 682 683 684 689 690 691 692 693 694 695\n",
      " 696 697 698 700 701 702 704 707 709 710 711 712 713 714 715 718 719 720\n",
      " 721 722 723 724 726 727 728 729 730 731 732 733 735 738 739 740 741 742\n",
      " 743 744 745 746 747 748 750 751 752 755 756 757 758 759 760 761 764 765\n",
      " 766 767 769 771 772 773 774 775 776 777 778 780 781 782 783]\n"
     ]
    },
    {
     "ename": "TypeError",
     "evalue": "only integer scalar arrays can be converted to a scalar index",
     "output_type": "error",
     "traceback": [
      "\u001b[0;31m---------------------------------------------------------------------------\u001b[0m",
      "\u001b[0;31mTypeError\u001b[0m                                 Traceback (most recent call last)",
      "\u001b[0;32m<ipython-input-15-68c52dfa889c>\u001b[0m in \u001b[0;36m<module>\u001b[0;34m()\u001b[0m\n\u001b[1;32m      1\u001b[0m \u001b[0;32mfor\u001b[0m \u001b[0mi\u001b[0m\u001b[0;34m,\u001b[0m \u001b[0;34m(\u001b[0m\u001b[0mtrain\u001b[0m\u001b[0;34m,\u001b[0m \u001b[0mval\u001b[0m\u001b[0;34m)\u001b[0m \u001b[0;32min\u001b[0m \u001b[0menumerate\u001b[0m\u001b[0;34m(\u001b[0m\u001b[0mskf\u001b[0m\u001b[0;34m)\u001b[0m\u001b[0;34m:\u001b[0m\u001b[0;34m\u001b[0m\u001b[0m\n\u001b[1;32m      2\u001b[0m     \u001b[0mprint\u001b[0m\u001b[0;34m(\u001b[0m\u001b[0mtrain\u001b[0m\u001b[0;34m)\u001b[0m\u001b[0;34m\u001b[0m\u001b[0m\n\u001b[0;32m----> 3\u001b[0;31m     \u001b[0mprint\u001b[0m\u001b[0;34m(\u001b[0m\u001b[0mi\u001b[0m\u001b[0;34m,\u001b[0m \u001b[0my_train_scalar\u001b[0m\u001b[0;34m[\u001b[0m\u001b[0mtrain\u001b[0m\u001b[0;34m]\u001b[0m\u001b[0;34m)\u001b[0m\u001b[0;34m\u001b[0m\u001b[0m\n\u001b[0m",
      "\u001b[0;31mTypeError\u001b[0m: only integer scalar arrays can be converted to a scalar index"
     ]
    }
   ],
   "source": [
    "for i, (train, val) in enumerate(skf):\n",
    "    print(train)\n",
    "    print(i, y_train_scalar[train])"
   ]
  }
 ],
 "metadata": {
  "kernelspec": {
   "display_name": "NLP",
   "language": "python",
   "name": "nlp"
  },
  "language_info": {
   "codemirror_mode": {
    "name": "ipython",
    "version": 3
   },
   "file_extension": ".py",
   "mimetype": "text/x-python",
   "name": "python",
   "nbconvert_exporter": "python",
   "pygments_lexer": "ipython3",
   "version": "3.6.4"
  }
 },
 "nbformat": 4,
 "nbformat_minor": 2
}
